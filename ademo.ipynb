{
  "nbformat": 4,
  "nbformat_minor": 0,
  "metadata": {
    "colab": {
      "name": "ademo.ipynb",
      "provenance": [],
      "collapsed_sections": [],
      "authorship_tag": "ABX9TyPYtio7FmXYWrFxGl9+HScI",
      "include_colab_link": true
    },
    "kernelspec": {
      "name": "python3",
      "display_name": "Python 3"
    },
    "language_info": {
      "name": "python"
    }
  },
  "cells": [
    {
      "cell_type": "markdown",
      "metadata": {
        "id": "view-in-github",
        "colab_type": "text"
      },
      "source": [
        "<a href=\"https://colab.research.google.com/github/charumathikumar/etg_proj_demo/blob/main/ademo.ipynb\" target=\"_parent\"><img src=\"https://colab.research.google.com/assets/colab-badge.svg\" alt=\"Open In Colab\"/></a>"
      ]
    },
    {
      "cell_type": "code",
      "metadata": {
        "id": "_ixWucCwtLoI"
      },
      "source": [
        "record = { 11602259 : {\"name\": \"Ashish Jangra\" , \"Pno\": 1234, \"cgpa\" : 7.5},\n",
        "           11602260 : {\"name\": \"Gurpreet Singh\", \"Pno\": 5678, \"cgpa\" : 8},\n",
        "           11602261 : {\"name\": \"Rishu Kumar\"   , \"Pno\": 8984, \"cgpa\" : 7.8}}"
      ],
      "execution_count": null,
      "outputs": []
    },
    {
      "cell_type": "code",
      "metadata": {
        "id": "cXZfA30BtdKj"
      },
      "source": [
        "import json"
      ],
      "execution_count": null,
      "outputs": []
    },
    {
      "cell_type": "code",
      "metadata": {
        "id": "gTHmkVKOtf1J"
      },
      "source": [
        "js = json.dumps(record)"
      ],
      "execution_count": null,
      "outputs": []
    },
    {
      "cell_type": "code",
      "metadata": {
        "id": "iUQxkdpLuLeD"
      },
      "source": [
        "fd = open(\"record.json\",'w')\n",
        "\n",
        "fd.write(js)\n",
        "\n",
        "fd.close()"
      ],
      "execution_count": null,
      "outputs": []
    },
    {
      "cell_type": "code",
      "metadata": {
        "id": "6oabB9BPuUWg"
      },
      "source": [
        "fd = open(\"record.json\",'r')\n",
        "r = fd.read()\n",
        "fd.close()\n",
        "\n",
        "record = json.loads(r)"
      ],
      "execution_count": null,
      "outputs": []
    },
    {
      "cell_type": "code",
      "metadata": {
        "colab": {
          "base_uri": "https://localhost:8080/"
        },
        "id": "Z2S8lZ5bu5Wm",
        "outputId": "1c8ae0e9-0a79-4502-97f5-3f61616e063d"
      },
      "source": [
        "record\n"
      ],
      "execution_count": null,
      "outputs": [
        {
          "output_type": "execute_result",
          "data": {
            "text/plain": [
              "{'11602259': {'Pno': 1234, 'cgpa': 7.5, 'name': 'Ashish Jangra'},\n",
              " '11602260': {'Pno': 5678, 'cgpa': 8, 'name': 'Gurpreet Singh'},\n",
              " '11602261': {'Pno': 8984, 'cgpa': 7.8, 'name': 'Rishu Kumar'}}"
            ]
          },
          "metadata": {},
          "execution_count": 16
        }
      ]
    },
    {
      "cell_type": "code",
      "metadata": {
        "id": "R-94yz1uu90G"
      },
      "source": [
        "n=int(input(\"enter n\"))\n",
        "for i in range(n):\n",
        "      prod_id = str(input(\"Enter product id:\"))\n",
        "      pno = int(input(\"Enter phno:\"))\n",
        "      cg = int(input(\"Enter cg:\"))\n",
        "      name = str(input(\"Enter name:\"))\n",
        "\n",
        "      record[prod_id] = { 'pno': pno, 'cg': cg , 'name': name}\n",
        "\n",
        "      "
      ],
      "execution_count": null,
      "outputs": []
    },
    {
      "cell_type": "code",
      "metadata": {
        "id": "tHts7F9Si4Da"
      },
      "source": [
        "js = json.dumps(record)\n",
        "\n",
        "fd = open(\"record.json\",'w')\n",
        "fd.write(js)\n",
        "fd.close()"
      ],
      "execution_count": null,
      "outputs": []
    },
    {
      "cell_type": "code",
      "metadata": {
        "colab": {
          "base_uri": "https://localhost:8080/"
        },
        "id": "sKQo86EJu94Z",
        "outputId": "463ed9c8-c12c-4f3a-c64a-bb1117bca282"
      },
      "source": [
        "record"
      ],
      "execution_count": null,
      "outputs": [
        {
          "output_type": "execute_result",
          "data": {
            "text/plain": [
              "{'11602259': {'Pno': 1234, 'cgpa': 7.5, 'name': 'Ashish Jangra'},\n",
              " '11602260': {'Pno': 5678, 'cgpa': 8, 'name': 'Gurpreet Singh'},\n",
              " '11602261': {'Pno': 8984, 'cgpa': 7.8, 'name': 'Rishu Kumar'},\n",
              " '2': {'cg': 3, 'name': 'e', 'pno': 34},\n",
              " '3': {'cg': 5, 'name': 'jk', 'pno': 55}}"
            ]
          },
          "metadata": {},
          "execution_count": 20
        }
      ]
    },
    {
      "cell_type": "code",
      "metadata": {
        "colab": {
          "base_uri": "https://localhost:8080/"
        },
        "id": "Ta7dpbg7u97w",
        "outputId": "b3228c0c-c079-4f9d-c3c1-23c67de43a2b"
      },
      "source": [
        "prod_id = str(input(\"Enter product id:\"))\n",
        "pno = int(input(\"Enter phno:\"))\n",
        "cg = int(input(\"Enter cg:\"))\n",
        "name = str(input(\"Enter name:\"))\n",
        "\n",
        "record[prod_id] = { 'pno': pno, 'cg': cg , 'name': name}\n",
        "\n",
        "js = json.dumps(record)\n",
        "\n",
        "fd = open(\"record.json\",'w')\n",
        "fd.write(js)\n",
        "fd.close()"
      ],
      "execution_count": null,
      "outputs": [
        {
          "name": "stdout",
          "output_type": "stream",
          "text": [
            "Enter product id:100\n",
            "Enter phno:222\n",
            "Enter cg:2\n",
            "Enter name:edd\n"
          ]
        }
      ]
    },
    {
      "cell_type": "code",
      "metadata": {
        "colab": {
          "base_uri": "https://localhost:8080/"
        },
        "id": "S1bnvBmku-BC",
        "outputId": "e3651862-2ee4-492a-c1b6-936b73ccb911"
      },
      "source": [
        "record"
      ],
      "execution_count": null,
      "outputs": [
        {
          "output_type": "execute_result",
          "data": {
            "text/plain": [
              "{'100': {'cg': 2, 'name': 'edd', 'pno': 222},\n",
              " '11602259': {'Pno': 1234, 'cgpa': 7.5, 'name': 'Ashish Jangra'},\n",
              " '11602260': {'Pno': 5678, 'cgpa': 8, 'name': 'Gurpreet Singh'},\n",
              " '11602261': {'Pno': 8984, 'cgpa': 7.8, 'name': 'Rishu Kumar'},\n",
              " '2': {'cg': 3, 'name': 'e', 'pno': 34},\n",
              " '3': {'cg': 5, 'name': 'jk', 'pno': 55}}"
            ]
          },
          "metadata": {},
          "execution_count": 25
        }
      ]
    },
    {
      "cell_type": "code",
      "metadata": {
        "id": "450P7Dpbj8aW"
      },
      "source": [
        "js = json.dumps(record)\n",
        "\n",
        "fd = open(\"record.json\",'w')\n",
        "fd.write(js)\n",
        "fd.close()"
      ],
      "execution_count": null,
      "outputs": []
    },
    {
      "cell_type": "code",
      "metadata": {
        "id": "EtEicFNku-Dh",
        "colab": {
          "base_uri": "https://localhost:8080/"
        },
        "outputId": "c949a002-af3f-4610-ff1a-9820bb6c6e04"
      },
      "source": [
        "record"
      ],
      "execution_count": null,
      "outputs": [
        {
          "output_type": "execute_result",
          "data": {
            "text/plain": [
              "{'100': {'cg': 2, 'name': 'edd', 'pno': 222},\n",
              " '11602259': {'Pno': 1234, 'cgpa': 7.5, 'name': 'Ashish Jangra'},\n",
              " '11602260': {'Pno': 5678, 'cgpa': 8, 'name': 'Gurpreet Singh'},\n",
              " '11602261': {'Pno': 8984, 'cgpa': 7.8, 'name': 'Rishu Kumar'},\n",
              " '2': {'cg': 3, 'name': 'e', 'pno': 34},\n",
              " '3': {'cg': 5, 'name': 'jk', 'pno': 55}}"
            ]
          },
          "metadata": {},
          "execution_count": 23
        }
      ]
    },
    {
      "cell_type": "code",
      "metadata": {
        "id": "nVuVwaluy32x"
      },
      "source": [
        "rec = { 11602259 : {\"name\": \"Ashish Jangra\" , \"Pno\": 1234, \"date\" : \"7/5/2001\"}}"
      ],
      "execution_count": null,
      "outputs": []
    },
    {
      "cell_type": "code",
      "metadata": {
        "colab": {
          "base_uri": "https://localhost:8080/"
        },
        "id": "NizamSeZfRhu",
        "outputId": "e4f25fe3-348b-455c-c1a4-0a28bf1ff0a5"
      },
      "source": [
        "rec"
      ],
      "execution_count": null,
      "outputs": [
        {
          "output_type": "execute_result",
          "data": {
            "text/plain": [
              "{11602259: {'Pno': 1234, 'date': '7/5/2001', 'name': 'Ashish Jangra'}}"
            ]
          },
          "metadata": {},
          "execution_count": 6
        }
      ]
    }
  ]
}